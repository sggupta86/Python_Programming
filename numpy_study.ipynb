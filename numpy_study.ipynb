{
 "cells": [
  {
   "cell_type": "markdown",
   "metadata": {},
   "source": []
  },
  {
   "cell_type": "code",
   "execution_count": 2,
   "metadata": {},
   "outputs": [
    {
     "ename": "TypeError",
     "evalue": "unsupported operand type(s) for /: 'list' and 'list'",
     "output_type": "error",
     "traceback": [
      "\u001b[1;31m---------------------------------------------------------------------------\u001b[0m",
      "\u001b[1;31mTypeError\u001b[0m                                 Traceback (most recent call last)",
      "\u001b[1;32me:\\ekta_programs\\Python_with_Data_Science\\numpy_study.ipynb Cell 2\u001b[0m line \u001b[0;36m3\n\u001b[0;32m      <a href='vscode-notebook-cell:/e%3A/ekta_programs/Python_with_Data_Science/numpy_study.ipynb#W1sZmlsZQ%3D%3D?line=0'>1</a>\u001b[0m distance\u001b[39m=\u001b[39m[\u001b[39m10\u001b[39m,\u001b[39m20\u001b[39m,\u001b[39m30\u001b[39m]\n\u001b[0;32m      <a href='vscode-notebook-cell:/e%3A/ekta_programs/Python_with_Data_Science/numpy_study.ipynb#W1sZmlsZQ%3D%3D?line=1'>2</a>\u001b[0m time\u001b[39m=\u001b[39m[\u001b[39m5\u001b[39m, \u001b[39m10\u001b[39m, \u001b[39m15\u001b[39m]\n\u001b[1;32m----> <a href='vscode-notebook-cell:/e%3A/ekta_programs/Python_with_Data_Science/numpy_study.ipynb#W1sZmlsZQ%3D%3D?line=2'>3</a>\u001b[0m speed\u001b[39m=\u001b[39mdistance\u001b[39m/\u001b[39;49mtime\n\u001b[0;32m      <a href='vscode-notebook-cell:/e%3A/ekta_programs/Python_with_Data_Science/numpy_study.ipynb#W1sZmlsZQ%3D%3D?line=3'>4</a>\u001b[0m \u001b[39mprint\u001b[39m(speed)\n",
      "\u001b[1;31mTypeError\u001b[0m: unsupported operand type(s) for /: 'list' and 'list'"
     ]
    }
   ],
   "source": [
    "distance=[10,20,30]\n",
    "time=[5, 10, 15]\n",
    "speed=distance/time\n",
    "print(speed)"
   ]
  },
  {
   "cell_type": "code",
   "execution_count": null,
   "metadata": {},
   "outputs": [
    {
     "name": "stdout",
     "output_type": "stream",
     "text": [
      "[2.         3.33333333 4.28571429]\n",
      "<class 'numpy.ndarray'>\n",
      "<class 'numpy.ndarray'>\n"
     ]
    }
   ],
   "source": [
    "import numpy as np\n",
    "\n",
    "distance=[10,20,30]\n",
    "time=[5, 6, 7]\n",
    "dis=np.array(distance)\n",
    "tim=np.array(time)\n",
    "speed=dis/tim\n",
    "print(speed)\n",
    "print(type(dis))\n",
    "print(type(tim))"
   ]
  },
  {
   "cell_type": "code",
   "execution_count": null,
   "metadata": {},
   "outputs": [
    {
     "name": "stdout",
     "output_type": "stream",
     "text": [
      "[1 2 3 4]\n",
      "(4,)\n",
      "1\n"
     ]
    }
   ],
   "source": [
    "import numpy as np\n",
    "\n",
    "a_rr= np.array([1,2,3,4])\n",
    "print(a_rr)\n",
    "print(a_rr.shape)\n",
    "print(a_rr.ndim)"
   ]
  },
  {
   "cell_type": "code",
   "execution_count": null,
   "metadata": {},
   "outputs": [
    {
     "name": "stdout",
     "output_type": "stream",
     "text": [
      "[[1 2 3 4]\n",
      " [4 5 6 7]]\n",
      "(2, 4)\n",
      "2\n"
     ]
    }
   ],
   "source": [
    "import numpy as np\n",
    "\n",
    "a_rr= np.array([[1,2,3,4], [4,5,6,7]])\n",
    "print(a_rr)\n",
    "print(a_rr.shape)\n",
    "print(a_rr.ndim)"
   ]
  },
  {
   "cell_type": "code",
   "execution_count": null,
   "metadata": {},
   "outputs": [
    {
     "name": "stdout",
     "output_type": "stream",
     "text": [
      "[[[ 1  2  3  4]\n",
      "  [ 4  5  6  7]]\n",
      "\n",
      " [[ 8  9 10 11]\n",
      "  [12 13 14 15]]]\n",
      "(2, 2, 4)\n",
      "3\n"
     ]
    }
   ],
   "source": [
    "import numpy as np\n",
    "\n",
    "a_rr= np.array([[[1,2,3,4], [4,5,6,7]], [[8,9,10, 11],[12,13,14,15]]])\n",
    "print(a_rr)\n",
    "print(a_rr.shape)\n",
    "print(a_rr.ndim) "
   ]
  },
  {
   "cell_type": "code",
   "execution_count": 7,
   "metadata": {},
   "outputs": [
    {
     "name": "stdout",
     "output_type": "stream",
     "text": [
      "[[1 2 3 4]\n",
      " [4 5 6 7]]\n",
      "last element of 2 d array 6\n",
      "addition of the two element of aaray 9\n",
      "addition of 3 elemnt 13\n"
     ]
    }
   ],
   "source": [
    "import numpy as np\n",
    "\n",
    "a_rr= np.array([[1,2,3,4], [4,5,6,7]])\n",
    "print(a_rr)\n",
    "print(\"last element of 2 d array\", a_rr[1, 2])\n",
    "print(\"addition of the two element of aaray\", a_rr[0, 1]+ a_rr[1, -1])\n",
    "print(\"addition of 3 elemnt\", a_rr[0, 1]+ a_rr[1, -4]+a_rr[1, -1] )"
   ]
  },
  {
   "cell_type": "markdown",
   "metadata": {},
   "source": [
    "---------------------------------------------------------------------------------------------------------------------------"
   ]
  },
  {
   "cell_type": "markdown",
   "metadata": {},
   "source": [
    "## <center>Slicing arrays</center>\n",
    "\n",
    "        Slicing in python means taking elements from one given index to another given index.\n",
    "\n",
    "        We pass slice instead of index like this: [start:end].\n",
    "\n",
    "        We can also define the step, like this: [start:end:step].\n",
    "\n",
    "        If we don't pass start its considered 0\n",
    "\n",
    "        If we don't pass end its considered length of array in that dimension\n",
    "\n",
    "        If we don't pass step its considered 1"
   ]
  },
  {
   "cell_type": "markdown",
   "metadata": {},
   "source": [
    "---------------------------------------------------------------------------------------------------------------------------"
   ]
  },
  {
   "cell_type": "code",
   "execution_count": 39,
   "metadata": {},
   "outputs": [
    {
     "name": "stdout",
     "output_type": "stream",
     "text": [
      "[[10 20 30]\n",
      " [40 50 60]\n",
      " [70 80 90]]\n",
      "[[20 30]]\n"
     ]
    }
   ],
   "source": [
    "import numpy as np\n",
    "\n",
    "arr = np.array([[10, 20, 30],[ 40, 50, 60],[ 70, 80, 90]])\n",
    "\n",
    "print(arr)\n",
    "#print(arr[2::2 ])\n",
    "\n",
    "print(arr[0:2:, 1:  ])"
   ]
  }
 ],
 "metadata": {
  "kernelspec": {
   "display_name": "Python 3",
   "language": "python",
   "name": "python3"
  },
  "language_info": {
   "codemirror_mode": {
    "name": "ipython",
    "version": 3
   },
   "file_extension": ".py",
   "mimetype": "text/x-python",
   "name": "python",
   "nbconvert_exporter": "python",
   "pygments_lexer": "ipython3",
   "version": "3.10.0"
  }
 },
 "nbformat": 4,
 "nbformat_minor": 2
}
