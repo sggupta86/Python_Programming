{
 "cells": [
  {
   "cell_type": "code",
   "execution_count": 1,
   "metadata": {},
   "outputs": [
    {
     "name": "stdout",
     "output_type": "stream",
     "text": [
      "Hello, this is print statement tutorial\n"
     ]
    }
   ],
   "source": [
    "# first program of python\n",
    "\n",
    "print(\"Hello, this is print statement tutorial\")"
   ]
  },
  {
   "cell_type": "markdown",
   "metadata": {},
   "source": [
    "# Python Tutorial"
   ]
  },
  {
   "cell_type": "markdown",
   "metadata": {},
   "source": [
    "*Below the example for the variable declearation and check data type of the variable using type()*"
   ]
  },
  {
   "cell_type": "code",
   "execution_count": 3,
   "metadata": {},
   "outputs": [
    {
     "name": "stdout",
     "output_type": "stream",
     "text": [
      "3\n",
      "4.2\n",
      "python tutorial\n"
     ]
    }
   ],
   "source": [
    "x=3\n",
    "y=4.2\n",
    "z=\"python tutorial\"\n",
    "print(x)\n",
    "print(y)\n",
    "print(z)"
   ]
  },
  {
   "cell_type": "code",
   "execution_count": 4,
   "metadata": {},
   "outputs": [
    {
     "name": "stdout",
     "output_type": "stream",
     "text": [
      "3\n",
      "4.2\n",
      "python tutorial\n",
      "<class 'int'>\n",
      "<class 'float'>\n",
      "<class 'str'>\n"
     ]
    }
   ],
   "source": [
    "x=3\n",
    "y=4.2\n",
    "z=\"python tutorial\"\n",
    "print(x)\n",
    "print(y)\n",
    "print(z)\n",
    "print(type(x))\n",
    "print(type(y))\n",
    "print(type(z))"
   ]
  },
  {
   "cell_type": "markdown",
   "metadata": {},
   "source": [
    "# if-else tutorial example in python"
   ]
  },
  {
   "cell_type": "code",
   "execution_count": 5,
   "metadata": {},
   "outputs": [
    {
     "name": "stdout",
     "output_type": "stream",
     "text": [
      "x is more than 0\n"
     ]
    }
   ],
   "source": [
    "x=5\n",
    "\n",
    "if x>0 :\n",
    "    print(\"x is more than 0\")\n",
    "else:\n",
    "    print(\"x is less than 0\")"
   ]
  },
  {
   "cell_type": "markdown",
   "metadata": {},
   "source": [
    "# for loop tutorial example in python\n",
    "\n",
    "A for loop in Python is used for iterating over a sequence (that can be either a list, tuple, string, dictionary, or other iterable objects). It allows you to execute a block of code repeatedly for each item in the sequence, until the sequence is exhausted. Here's the basic structure of a for loop in Python:\n",
    "\n",
    "    for item in sequence:\n",
    "        # Code to execute for each item\n",
    "\n",
    "item: This is a variable that takes on the value of each element in the sequence one by one, in each iteration of the loop.\n",
    "\n",
    "sequence: This is the iterable object over which the for loop iterates. It can be a list, tuple, string, dictionary, or any other iterable data type.\n"
   ]
  },
  {
   "cell_type": "code",
   "execution_count": 6,
   "metadata": {},
   "outputs": [
    {
     "name": "stdout",
     "output_type": "stream",
     "text": [
      "1\n",
      "2\n",
      "3\n",
      "4\n",
      "5\n"
     ]
    }
   ],
   "source": [
    "x=[1,2,3,4,5]\n",
    "for i in x:\n",
    "    print(i)"
   ]
  },
  {
   "cell_type": "markdown",
   "metadata": {},
   "source": [
    "# Defining a Function:\n",
    "\n",
    "In Python, you can define a function using the def keyword, followed by the function name, parentheses (), and a colon :. The function's code block is indented under the def statement.\n",
    "\n",
    "def greet(name):<br>\n",
    "    print(f\"Hello, {name}!\""
   ]
  },
  {
   "cell_type": "code",
   "execution_count": 1,
   "metadata": {},
   "outputs": [
    {
     "name": "stdout",
     "output_type": "stream",
     "text": [
      "addidion is: 5\n"
     ]
    }
   ],
   "source": [
    "def add(a,b):\n",
    "    z=a+b\n",
    "    return z\n",
    "print(\"addidion is:\", add(2,3))"
   ]
  },
  {
   "cell_type": "code",
   "execution_count": 8,
   "metadata": {},
   "outputs": [
    {
     "name": "stdout",
     "output_type": "stream",
     "text": [
      "additon of list is: 15\n"
     ]
    }
   ],
   "source": [
    "list1=[1,2,3,4,5]\n",
    "\n",
    "def add(num):\n",
    "    z=0\n",
    "    for i in num:\n",
    "        z=z+i\n",
    "    return z\n",
    "print(\"additon of list is:\", add(list1))\n"
   ]
  },
  {
   "cell_type": "markdown",
   "metadata": {},
   "source": [
    "# lambda function\n",
    "A lambda function is a small anonymous function.\n",
    "\n",
    "A lambda function can take any number of arguments, but can only have one expression.\n",
    "\n",
    "Syntax\n",
    "lambda arguments : expression\n",
    "The expression is executed and the result is returned:\n"
   ]
  },
  {
   "cell_type": "code",
   "execution_count": 9,
   "metadata": {},
   "outputs": [
    {
     "name": "stdout",
     "output_type": "stream",
     "text": [
      "15\n"
     ]
    }
   ],
   "source": [
    "x = lambda a : a + 10\n",
    "print(x(5))"
   ]
  },
  {
   "cell_type": "markdown",
   "metadata": {},
   "source": [
    "# List in Python\n",
    "\n",
    "Lists are used to store multiple items in a single variable. with diffrent data types.\n",
    "\n",
    "Lists are one of 4 built-in data types in Python used to store collections of data, the other 3 are Tuple, Set, and Dictionary, all with different qualities and usage.\n",
    "\n",
    "Lists are created using square brackets \n",
    " \n",
    " a=[1,3,4,5]"
   ]
  },
  {
   "cell_type": "code",
   "execution_count": 22,
   "metadata": {},
   "outputs": [
    {
     "name": "stdout",
     "output_type": "stream",
     "text": [
      "minion likes to eat: ['apple', 'banana', 'papaya', 1, 'apple']\n",
      "<class 'list'>\n",
      "5\n"
     ]
    }
   ],
   "source": [
    "minion_eat=[\"apple\", \"banana\", \"papaya\", 1,\"apple\"]\n",
    "\n",
    "print(\"minion likes to eat:\", minion_eat)\n",
    "print(type(minion_eat))\n",
    "print(len(minion_eat))"
   ]
  },
  {
   "cell_type": "markdown",
   "metadata": {},
   "source": [
    "# Dictionary\n",
    "Dictionaries are used to store data values in **key : value** pairs.\n",
    "\n",
    "A dictionary is a collection which is ordered*, changeable and do not allow duplicates.\n",
    "\n",
    "As of Python version 3.7, dictionaries are ordered. In Python 3.6 and earlier, dictionaries are unordered.\n",
    "\n",
    "Dictionaries are written with curly brackets, and have keys and values:"
   ]
  },
  {
   "cell_type": "code",
   "execution_count": 25,
   "metadata": {},
   "outputs": [
    {
     "name": "stdout",
     "output_type": "stream",
     "text": [
      "{'name': 'minion', 'origin': 'dicapable', 'work': 'fun'}\n",
      "<class 'dict'>\n",
      "3\n"
     ]
    }
   ],
   "source": [
    "cartoon_info = {    \n",
    "    \"name\":\"minion\",\n",
    "    \"origin\":\"dicapable\",\n",
    "    \"work\":\"fun\",\n",
    "    \n",
    "}\n",
    "\n",
    "print(cartoon_info)\n",
    "print(type(cartoon_info))\n",
    "print(len(cartoon_info))"
   ]
  }
 ],
 "metadata": {
  "kernelspec": {
   "display_name": "Python 3",
   "language": "python",
   "name": "python3"
  },
  "language_info": {
   "codemirror_mode": {
    "name": "ipython",
    "version": 3
   },
   "file_extension": ".py",
   "mimetype": "text/x-python",
   "name": "python",
   "nbconvert_exporter": "python",
   "pygments_lexer": "ipython3",
   "version": "3.10.0"
  },
  "orig_nbformat": 4
 },
 "nbformat": 4,
 "nbformat_minor": 2
}
