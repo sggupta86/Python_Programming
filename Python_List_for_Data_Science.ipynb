{
 "cells": [
  {
   "cell_type": "markdown",
   "metadata": {},
   "source": [
    "### List in Python \n",
    "*Tutorials for Data Science*"
   ]
  },
  {
   "cell_type": "markdown",
   "metadata": {},
   "source": [
    "Basic example of list in python \n",
    "* list create with []\n",
    "* list is like array but stored difrent typpes of data\n",
    "* first element of list reprerents by index [0]\n",
    "* list"
   ]
  },
  {
   "cell_type": "code",
   "execution_count": 1,
   "metadata": {},
   "outputs": [
    {
     "name": "stdout",
     "output_type": "stream",
     "text": [
      "['Apple', 'Banana', 'Papaya']\n",
      "<class 'list'>\n"
     ]
    }
   ],
   "source": [
    "furit=[\"Apple\", \"Banana\", \"Papaya\"]\n",
    "print(furit)\n",
    "print(type(furit))"
   ]
  },
  {
   "cell_type": "markdown",
   "metadata": {},
   "source": [
    "**Diffrent function used in list for perform diffrent operation on it.**\n",
    "* len()\n",
    "* append()\n"
   ]
  },
  {
   "cell_type": "markdown",
   "metadata": {},
   "source": []
  },
  {
   "cell_type": "code",
   "execution_count": 2,
   "metadata": {},
   "outputs": [
    {
     "name": "stdout",
     "output_type": "stream",
     "text": [
      "['Apple', 'Banana', 'Papaya']\n",
      "<class 'list'>\n",
      "3\n"
     ]
    }
   ],
   "source": [
    "furit=[\"Apple\", \"Banana\", \"Papaya\"]\n",
    "print(furit)\n",
    "print(type(furit))\n",
    "print(len(furit))"
   ]
  }
 ],
 "metadata": {
  "kernelspec": {
   "display_name": "Python 3",
   "language": "python",
   "name": "python3"
  },
  "language_info": {
   "codemirror_mode": {
    "name": "ipython",
    "version": 3
   },
   "file_extension": ".py",
   "mimetype": "text/x-python",
   "name": "python",
   "nbconvert_exporter": "python",
   "pygments_lexer": "ipython3",
   "version": "3.10.0"
  },
  "orig_nbformat": 4
 },
 "nbformat": 4,
 "nbformat_minor": 2
}
