{
 "cells": [
  {
   "cell_type": "code",
   "execution_count": 1,
   "metadata": {},
   "outputs": [
    {
     "ename": "TypeError",
     "evalue": "unsupported operand type(s) for /: 'list' and 'list'",
     "output_type": "error",
     "traceback": [
      "\u001b[1;31m---------------------------------------------------------------------------\u001b[0m",
      "\u001b[1;31mTypeError\u001b[0m                                 Traceback (most recent call last)",
      "\u001b[1;32me:\\ekta_programs\\Python_with_Data_Science\\numpy_in_python.ipynb Cell 1\u001b[0m line \u001b[0;36m3\n\u001b[0;32m      <a href='vscode-notebook-cell:/e%3A/ekta_programs/Python_with_Data_Science/numpy_in_python.ipynb#W0sZmlsZQ%3D%3D?line=0'>1</a>\u001b[0m distance\u001b[39m=\u001b[39m[\u001b[39m10\u001b[39m,\u001b[39m20\u001b[39m,\u001b[39m30\u001b[39m]\n\u001b[0;32m      <a href='vscode-notebook-cell:/e%3A/ekta_programs/Python_with_Data_Science/numpy_in_python.ipynb#W0sZmlsZQ%3D%3D?line=1'>2</a>\u001b[0m time\u001b[39m=\u001b[39m[\u001b[39m5\u001b[39m, \u001b[39m10\u001b[39m, \u001b[39m15\u001b[39m]\n\u001b[1;32m----> <a href='vscode-notebook-cell:/e%3A/ekta_programs/Python_with_Data_Science/numpy_in_python.ipynb#W0sZmlsZQ%3D%3D?line=2'>3</a>\u001b[0m speed\u001b[39m=\u001b[39mdistance\u001b[39m/\u001b[39;49mtime\n\u001b[0;32m      <a href='vscode-notebook-cell:/e%3A/ekta_programs/Python_with_Data_Science/numpy_in_python.ipynb#W0sZmlsZQ%3D%3D?line=3'>4</a>\u001b[0m \u001b[39mprint\u001b[39m(speed)\n",
      "\u001b[1;31mTypeError\u001b[0m: unsupported operand type(s) for /: 'list' and 'list'"
     ]
    }
   ],
   "source": [
    "distance=[10,20,30]\n",
    "time=[5, 10, 15]\n",
    "speed=distance/time\n",
    "print(speed)"
   ]
  },
  {
   "cell_type": "code",
   "execution_count": 4,
   "metadata": {},
   "outputs": [
    {
     "name": "stdout",
     "output_type": "stream",
     "text": [
      "[2.         3.33333333 4.28571429]\n",
      "<class 'numpy.ndarray'>\n",
      "<class 'numpy.ndarray'>\n"
     ]
    }
   ],
   "source": [
    "import numpy as np\n",
    "\n",
    "distance=[10,20,30]\n",
    "time=[5, 6, 7]\n",
    "dis=np.array(distance)\n",
    "tim=np.array(time)\n",
    "speed=dis/tim\n",
    "print(speed)\n",
    "print(type(dis))\n",
    "print(type(tim))"
   ]
  }
 ],
 "metadata": {
  "kernelspec": {
   "display_name": "Python 3",
   "language": "python",
   "name": "python3"
  },
  "language_info": {
   "codemirror_mode": {
    "name": "ipython",
    "version": 3
   },
   "file_extension": ".py",
   "mimetype": "text/x-python",
   "name": "python",
   "nbconvert_exporter": "python",
   "pygments_lexer": "ipython3",
   "version": "3.10.0"
  }
 },
 "nbformat": 4,
 "nbformat_minor": 2
}
