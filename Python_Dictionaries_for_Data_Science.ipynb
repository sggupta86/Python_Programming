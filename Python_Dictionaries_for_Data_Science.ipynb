{
 "cells": [
  {
   "cell_type": "code",
   "execution_count": 1,
   "metadata": {},
   "outputs": [
    {
     "name": "stdout",
     "output_type": "stream",
     "text": [
      "<class 'dict'>\n",
      "{'roll_no': '01', 'name': 'Servil', 'age': 20}\n"
     ]
    }
   ],
   "source": [
    "std_1 = {\n",
    "  \"roll_no\": \"01\",\n",
    "  \"name\": \"Servil\",\n",
    "  \"age\": 20\n",
    "}\n",
    "print(type(std_1))\n",
    "print(std_1)"
   ]
  },
  {
   "cell_type": "code",
   "execution_count": 2,
   "metadata": {},
   "outputs": [
    {
     "name": "stdout",
     "output_type": "stream",
     "text": [
      "3\n"
     ]
    }
   ],
   "source": [
    "print(len(std_1))"
   ]
  },
  {
   "cell_type": "code",
   "execution_count": 3,
   "metadata": {},
   "outputs": [
    {
     "name": "stdout",
     "output_type": "stream",
     "text": [
      "<class 'dict'>\n",
      "{'roll_no': '01', 'name': 'Servil', 'age': 20}\n"
     ]
    }
   ],
   "source": [
    "std_1 = {\n",
    "  \"roll_no\": \"01\",\n",
    "  \"name\": \"Servil\",\n",
    "  \"age\": 30,\n",
    "   \"age\":20\n",
    "}\n",
    "print(type(std_1))\n",
    "print(std_1)\n",
    "# dupicate not allow"
   ]
  },
  {
   "cell_type": "code",
   "execution_count": 4,
   "metadata": {},
   "outputs": [
    {
     "data": {
      "text/plain": [
       "'Servil'"
      ]
     },
     "execution_count": 4,
     "metadata": {},
     "output_type": "execute_result"
    }
   ],
   "source": [
    "std_1.get(\"name\")"
   ]
  },
  {
   "cell_type": "code",
   "execution_count": 5,
   "metadata": {},
   "outputs": [
    {
     "name": "stdout",
     "output_type": "stream",
     "text": [
      "dict_keys(['roll_no', 'name', 'age'])\n",
      "dict_values(['01', 'Servil', 20])\n"
     ]
    }
   ],
   "source": [
    "x=std_1.keys()\n",
    "print(x)\n",
    "y=std_1.values()\n",
    "print(y)"
   ]
  },
  {
   "cell_type": "code",
   "execution_count": 6,
   "metadata": {},
   "outputs": [
    {
     "name": "stdout",
     "output_type": "stream",
     "text": [
      "Servil\n"
     ]
    }
   ],
   "source": [
    "z=std_1[\"name\"]\n",
    "print(z)"
   ]
  },
  {
   "cell_type": "code",
   "execution_count": 7,
   "metadata": {},
   "outputs": [
    {
     "name": "stdout",
     "output_type": "stream",
     "text": [
      "{'roll_no': '01', 'name': 'Servil', 'age': 15}\n"
     ]
    }
   ],
   "source": [
    "std_1.update({\"age\":15})\n",
    "print(std_1)\n"
   ]
  },
  {
   "cell_type": "code",
   "execution_count": 8,
   "metadata": {},
   "outputs": [
    {
     "name": "stdout",
     "output_type": "stream",
     "text": [
      "{'roll_no': '01', 'name': 'Servil', 'age': 15, 'DOB': '23 Jul 1990'}\n"
     ]
    }
   ],
   "source": [
    "std_1.update({\"DOB\":\"23 Jul 1990\"})\n",
    "print(std_1)"
   ]
  },
  {
   "cell_type": "code",
   "execution_count": 9,
   "metadata": {},
   "outputs": [
    {
     "name": "stdout",
     "output_type": "stream",
     "text": [
      "{'roll_no': '01', 'name': 'Servil', 'age': 15}\n"
     ]
    }
   ],
   "source": [
    "# pop(), popitem(), del, clear()\n",
    "\n",
    "std_1.popitem()\n",
    "print(std_1)"
   ]
  },
  {
   "cell_type": "code",
   "execution_count": 10,
   "metadata": {},
   "outputs": [
    {
     "name": "stdout",
     "output_type": "stream",
     "text": [
      "{'roll_no': '01', 'age': 15}\n"
     ]
    }
   ],
   "source": [
    "std_1.pop(\"name\")\n",
    "print(std_1)"
   ]
  },
  {
   "cell_type": "code",
   "execution_count": 11,
   "metadata": {},
   "outputs": [
    {
     "name": "stdout",
     "output_type": "stream",
     "text": [
      "{}\n"
     ]
    }
   ],
   "source": [
    "std_1.clear()\n",
    "print(std_1)"
   ]
  },
  {
   "cell_type": "code",
   "execution_count": 12,
   "metadata": {},
   "outputs": [
    {
     "name": "stdout",
     "output_type": "stream",
     "text": [
      "<class 'dict'>\n",
      "{'roll_no': '01', 'name': 'Servil', 'age': 20}\n"
     ]
    }
   ],
   "source": [
    "std_1 = {\n",
    "  \"roll_no\": \"01\",\n",
    "  \"name\": \"Servil\",\n",
    "  \"age\": 20\n",
    "}\n",
    "print(type(std_1))\n",
    "print(std_1)"
   ]
  },
  {
   "cell_type": "code",
   "execution_count": 13,
   "metadata": {},
   "outputs": [
    {
     "name": "stdout",
     "output_type": "stream",
     "text": [
      "{'roll_no': '01', 'age': 20}\n"
     ]
    }
   ],
   "source": [
    "del std_1[\"name\"]\n",
    "print(std_1)"
   ]
  },
  {
   "cell_type": "code",
   "execution_count": 14,
   "metadata": {},
   "outputs": [
    {
     "ename": "NameError",
     "evalue": "name 'std_1' is not defined",
     "output_type": "error",
     "traceback": [
      "\u001b[1;31m---------------------------------------------------------------------------\u001b[0m",
      "\u001b[1;31mNameError\u001b[0m                                 Traceback (most recent call last)",
      "\u001b[1;32me:\\ekta_programs\\Python_with_Data_Science\\Python_Dictionaries_for_Data_Science.ipynb Cell 14\u001b[0m line \u001b[0;36m2\n\u001b[0;32m      <a href='vscode-notebook-cell:/e%3A/ekta_programs/Python_with_Data_Science/Python_Dictionaries_for_Data_Science.ipynb#X16sZmlsZQ%3D%3D?line=0'>1</a>\u001b[0m \u001b[39mdel\u001b[39;00m std_1\n\u001b[1;32m----> <a href='vscode-notebook-cell:/e%3A/ekta_programs/Python_with_Data_Science/Python_Dictionaries_for_Data_Science.ipynb#X16sZmlsZQ%3D%3D?line=1'>2</a>\u001b[0m \u001b[39mprint\u001b[39m(std_1)\n",
      "\u001b[1;31mNameError\u001b[0m: name 'std_1' is not defined"
     ]
    }
   ],
   "source": [
    "del std_1\n",
    "print(std_1)"
   ]
  },
  {
   "cell_type": "code",
   "execution_count": null,
   "metadata": {},
   "outputs": [
    {
     "name": "stdout",
     "output_type": "stream",
     "text": [
      "{'std_1': {'roll_no': '1', 'name': 'Amar', 'age': 10}, 'std_2': {'roll_no': '1', 'name': 'Amar', 'age': 10}, 'std_3': {'roll_no': '1', 'name': 'Amar', 'age': 10}}\n"
     ]
    }
   ],
   "source": [
    "std_1 = {\n",
    "  \"roll_no\": \"1\",\n",
    "  \"name\": \"Amar\",\n",
    "  \"age\": 10\n",
    "}\n",
    "\n",
    "std_2 = {\n",
    "  \"roll_no\": \"Boby\",\n",
    "  \"name\": \"Servil\",\n",
    "  \"age\": 10\n",
    "}\n",
    "std_3 = {\n",
    "  \"roll_no\": \"3\",\n",
    "  \"name\": \"Conda\",\n",
    "  \"age\": 10\n",
    "}\n",
    "\n",
    "std_info={    \"std_1\":std_1, \"std_2\":std_1, \"std_3\":std_1,}\n",
    "\n",
    "print(std_info)"
   ]
  },
  {
   "cell_type": "code",
   "execution_count": null,
   "metadata": {},
   "outputs": [
    {
     "name": "stdout",
     "output_type": "stream",
     "text": [
      "{'roll_no': '1', 'name': 'A', 'age': 10}\n"
     ]
    }
   ],
   "source": [
    "print(std_info[\"std_1\"])"
   ]
  },
  {
   "cell_type": "code",
   "execution_count": null,
   "metadata": {},
   "outputs": [
    {
     "name": "stdout",
     "output_type": "stream",
     "text": [
      "Amar\n"
     ]
    }
   ],
   "source": [
    "print(std_info.get(\"std_1\").get(\"name\"))"
   ]
  },
  {
   "cell_type": "code",
   "execution_count": 15,
   "metadata": {},
   "outputs": [],
   "source": [
    "\n",
    "std_info={ \"class_10\" : { \"section_A\" : \n",
    "                            {\n",
    "                                \"std_1\": {\"roll_no\": \"1\",  \"name\": \"Amar\",  \"age\": 10},  \n",
    "                                \"std_2\": {\"roll_no\": \"2\",  \"name\": \"samar\",  \"age\": 10},\n",
    "                                \"std_3\": {\"roll_no\": \"3\",  \"name\": \"reem\",  \"age\": 10},  \n",
    "                            } , \n",
    "                        \"section_B\" : \n",
    "                            {\n",
    "                                \"std_1\": {\"roll_no\": \"1\",  \"name\": \"Sumo\",  \"age\": 10},  \n",
    "                                \"std_2\": {\"roll_no\": \"2\",  \"name\": \"Jambo\",  \"age\": 10},\n",
    "                                \"std_3\": {\"roll_no\": \"3\",  \"name\": \"Rambo\",  \"age\": 10},  \n",
    "                            }\n",
    "                                                                 \n",
    "                        \n",
    "                        } \n",
    "        }"
   ]
  },
  {
   "cell_type": "code",
   "execution_count": 21,
   "metadata": {},
   "outputs": [
    {
     "name": "stdout",
     "output_type": "stream",
     "text": [
      "std_1 :\n",
      "      roll_no = 3\n",
      "      name = reem\n",
      "      age = 10\n",
      "std_2 :\n",
      "      roll_no = 2\n",
      "      name = samar\n",
      "      age = 10\n",
      "std_1 :\n",
      "      roll_no = 3\n",
      "      name = Rambo\n",
      "      age = 10\n",
      "std_2 :\n",
      "      roll_no = 2\n",
      "      name = Jambo\n",
      "      age = 10\n"
     ]
    }
   ],
   "source": [
    "for x in std_info:\n",
    "    for y in std_info[x]:\n",
    "        for z in std_info[x][y]:\n",
    "            print(z, \":\")\n",
    "            for a1 in std_info[x][y][z]:\n",
    "                print(\"     \",a1, \"=\", std_info[x][y][z][a1])"
   ]
  }
 ],
 "metadata": {
  "kernelspec": {
   "display_name": "Python 3",
   "language": "python",
   "name": "python3"
  },
  "language_info": {
   "codemirror_mode": {
    "name": "ipython",
    "version": 3
   },
   "file_extension": ".py",
   "mimetype": "text/x-python",
   "name": "python",
   "nbconvert_exporter": "python",
   "pygments_lexer": "ipython3",
   "version": "3.10.0"
  }
 },
 "nbformat": 4,
 "nbformat_minor": 2
}
