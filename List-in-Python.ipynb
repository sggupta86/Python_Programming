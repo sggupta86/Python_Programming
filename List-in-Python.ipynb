{
 "cells": [
  {
   "cell_type": "code",
   "execution_count": 1,
   "metadata": {},
   "outputs": [
    {
     "name": "stdout",
     "output_type": "stream",
     "text": [
      "<class 'list'>\n",
      "['tvf', 'hotstar', 'amazon prime', 'zee']\n"
     ]
    }
   ],
   "source": [
    "ott_app=[\"tvf\", \"hotstar\", \"amazon prime\", \"zee\"]\n",
    "print(type(ott_app))\n",
    "print(ott_app)"
   ]
  },
  {
   "cell_type": "code",
   "execution_count": 2,
   "metadata": {},
   "outputs": [
    {
     "name": "stdout",
     "output_type": "stream",
     "text": [
      "['tvf', 'hotstar', 'amazon prime', 'zee', 'jio']\n"
     ]
    }
   ],
   "source": [
    "ott_app.append(\"jio\")\n",
    "print(ott_app)"
   ]
  },
  {
   "cell_type": "code",
   "execution_count": 4,
   "metadata": {},
   "outputs": [
    {
     "name": "stdout",
     "output_type": "stream",
     "text": [
      "['tvf', 'you tube', 'hotstar', 'amazon prime', 'zee', 'jio']\n"
     ]
    }
   ],
   "source": [
    "ott_app.insert(1, \"you tube\")\n",
    "print(ott_app)"
   ]
  },
  {
   "cell_type": "code",
   "execution_count": 5,
   "metadata": {},
   "outputs": [
    {
     "name": "stdout",
     "output_type": "stream",
     "text": [
      "['tvf', 'you tube', 'hotstar', 'amazon prime', 'zee', 'jio', 'netflix', 'sonyLiv', 'Eros Now']\n"
     ]
    }
   ],
   "source": [
    "ott2_app=[\"netflix\", \"sonyLiv\", \"Eros Now\"]\n",
    "\n",
    "ott_app.extend(ott2_app)\n",
    "print(ott_app)"
   ]
  },
  {
   "cell_type": "code",
   "execution_count": 6,
   "metadata": {},
   "outputs": [
    {
     "name": "stdout",
     "output_type": "stream",
     "text": [
      "['tvf', 'You Tuble', 'hotstar', 'amazon prime', 'zee', 'jio', 'netflix', 'sonyLiv', 'Eros Now']\n"
     ]
    }
   ],
   "source": [
    "ott_app[1]=\"You Tuble\"\n",
    "print(ott_app)"
   ]
  },
  {
   "cell_type": "code",
   "execution_count": 7,
   "metadata": {},
   "outputs": [
    {
     "name": "stdout",
     "output_type": "stream",
     "text": [
      "['tvf', 'You Tuble', 'Diseny Hotstar', 'Zee 5', 'zee', 'jio', 'netflix', 'sonyLiv', 'Eros Now']\n"
     ]
    }
   ],
   "source": [
    "ott_app[2:4]=[\"Diseny Hotstar\", \"Zee 5\"]\n",
    "print(ott_app)"
   ]
  },
  {
   "cell_type": "code",
   "execution_count": 9,
   "metadata": {},
   "outputs": [
    {
     "name": "stdout",
     "output_type": "stream",
     "text": [
      "['tvf', 'Amazon Prime', 'Diseny Hotstar', 'Zee 5', 'You Tube', 'jio', 'netflix', 'sonyLiv', 'Eros Now']\n"
     ]
    }
   ],
   "source": [
    "ott_app[4]=\"You Tube\"\n",
    "print(ott_app)"
   ]
  },
  {
   "cell_type": "code",
   "execution_count": 10,
   "metadata": {},
   "outputs": [
    {
     "name": "stdout",
     "output_type": "stream",
     "text": [
      "['tvf', 'Amazon Prime', 'Diseny Hotstar', 'Zee 5', 'jio', 'netflix', 'sonyLiv', 'Eros Now']\n"
     ]
    }
   ],
   "source": [
    "ott_app.remove(\"You Tube\")\n",
    "print(ott_app)"
   ]
  },
  {
   "cell_type": "code",
   "execution_count": 11,
   "metadata": {},
   "outputs": [
    {
     "name": "stdout",
     "output_type": "stream",
     "text": [
      "['tvf', 'Diseny Hotstar', 'Zee 5', 'jio', 'netflix', 'sonyLiv', 'Eros Now']\n"
     ]
    }
   ],
   "source": [
    "ott_app.pop(1)\n",
    "print(ott_app)"
   ]
  },
  {
   "cell_type": "code",
   "execution_count": 12,
   "metadata": {},
   "outputs": [
    {
     "name": "stdout",
     "output_type": "stream",
     "text": [
      "['tvf', 'Diseny Hotstar', 'Zee 5', 'jio', 'netflix', 'sonyLiv']\n"
     ]
    }
   ],
   "source": [
    "ott_app.pop()\n",
    "print(ott_app)"
   ]
  },
  {
   "cell_type": "code",
   "execution_count": 13,
   "metadata": {},
   "outputs": [
    {
     "name": "stdout",
     "output_type": "stream",
     "text": [
      "['Diseny Hotstar', 'Zee 5', 'jio', 'netflix', 'sonyLiv']\n"
     ]
    }
   ],
   "source": [
    "del ott_app[0]\n",
    "print(ott_app)"
   ]
  },
  {
   "cell_type": "code",
   "execution_count": 14,
   "metadata": {},
   "outputs": [
    {
     "ename": "NameError",
     "evalue": "name 'ott_app' is not defined",
     "output_type": "error",
     "traceback": [
      "\u001b[1;31m---------------------------------------------------------------------------\u001b[0m",
      "\u001b[1;31mNameError\u001b[0m                                 Traceback (most recent call last)",
      "\u001b[1;32me:\\ekta_programs\\python_basic\\List-in-Python.ipynb Cell 12\u001b[0m line \u001b[0;36m2\n\u001b[0;32m      <a href='vscode-notebook-cell:/e%3A/ekta_programs/python_basic/List-in-Python.ipynb#X14sZmlsZQ%3D%3D?line=0'>1</a>\u001b[0m \u001b[39mdel\u001b[39;00m ott_app\n\u001b[1;32m----> <a href='vscode-notebook-cell:/e%3A/ekta_programs/python_basic/List-in-Python.ipynb#X14sZmlsZQ%3D%3D?line=1'>2</a>\u001b[0m \u001b[39mprint\u001b[39m(ott_app)\n",
      "\u001b[1;31mNameError\u001b[0m: name 'ott_app' is not defined"
     ]
    }
   ],
   "source": [
    "del ott_app\n",
    "print(ott_app)"
   ]
  },
  {
   "cell_type": "code",
   "execution_count": 15,
   "metadata": {},
   "outputs": [
    {
     "name": "stdout",
     "output_type": "stream",
     "text": [
      "<class 'list'>\n",
      "['tvf', 'hotstar', 'amazon prime', 'zee']\n"
     ]
    }
   ],
   "source": [
    "ott_app=[\"tvf\", \"hotstar\", \"amazon prime\", \"zee\"]\n",
    "print(type(ott_app))\n",
    "print(ott_app)\n"
   ]
  },
  {
   "cell_type": "code",
   "execution_count": 16,
   "metadata": {},
   "outputs": [
    {
     "name": "stdout",
     "output_type": "stream",
     "text": [
      "[]\n"
     ]
    }
   ],
   "source": [
    "ott_app.clear()\n",
    "print(ott_app)"
   ]
  }
 ],
 "metadata": {
  "kernelspec": {
   "display_name": "Python 3",
   "language": "python",
   "name": "python3"
  },
  "language_info": {
   "codemirror_mode": {
    "name": "ipython",
    "version": 3
   },
   "file_extension": ".py",
   "mimetype": "text/x-python",
   "name": "python",
   "nbconvert_exporter": "python",
   "pygments_lexer": "ipython3",
   "version": "3.10.0"
  },
  "orig_nbformat": 4
 },
 "nbformat": 4,
 "nbformat_minor": 2
}
