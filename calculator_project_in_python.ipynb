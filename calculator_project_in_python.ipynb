{
 "cells": [
  {
   "cell_type": "code",
   "execution_count": 30,
   "metadata": {},
   "outputs": [],
   "source": [
    "def add(x,y):\n",
    "    x=int(input(\"enter  first vale:\"))\n",
    "    y=int(input(\"enter  second vale:\"))\n",
    "    z=x+y\n",
    "    return print(\"addition is :\",z)\n",
    "\n",
    "def sub(x,y):\n",
    "    x=int(input(\"enter  first vale:\"))\n",
    "    y=int(input(\"enter  second vale:\"))\n",
    "    z=x-y\n",
    "    return print(\"sub is :\",z)\n",
    "\n",
    "def mul(x,y):\n",
    "    x=int(input(\"enter  first vale:\"))\n",
    "    y=int(input(\"enter  second vale:\"))\n",
    "    z=x*y\n",
    "    return print(\"mul is :\",z)\n",
    "\n",
    "def div(x,y):\n",
    "    x=int(input(\"enter  first vale:\"))\n",
    "    y=int(input(\"enter  second vale:\"))\n",
    "    z=x/y\n",
    "    return print(\"div is :\",z)\n",
    "\n"
   ]
  },
  {
   "cell_type": "code",
   "execution_count": 32,
   "metadata": {},
   "outputs": [
    {
     "name": "stdout",
     "output_type": "stream",
     "text": [
      "sub is : -1\n",
      "None\n"
     ]
    }
   ],
   "source": [
    "a=0; b=0; \n",
    "def cal(arg):\n",
    "    match arg:\n",
    "        case 0:\n",
    "            return add(a, b)\n",
    "        case 1:\n",
    "            return sub(a, b)\n",
    "        case 2:\n",
    "            return mul(a, b)\n",
    "        case 3:\n",
    "            return div(a, b)\n",
    "        case default:\n",
    "            return \"something\"\n",
    "arg=int(input(\"enter the choise 0.add, 1.sub, 2. mul, 3.div\"))\n",
    "head = cal(arg)\n",
    "print(head)"
   ]
  },
  {
   "cell_type": "code",
   "execution_count": 29,
   "metadata": {},
   "outputs": [
    {
     "name": "stdout",
     "output_type": "stream",
     "text": [
      "addition is : 5\n",
      "sub is : -1\n",
      "mul is : 2430\n",
      "div is : 1.0\n"
     ]
    }
   ],
   "source": [
    "add(3,4)\n",
    "sub(8,4)\n",
    "mul(4,4)\n",
    "div(16,4)"
   ]
  }
 ],
 "metadata": {
  "kernelspec": {
   "display_name": "Python 3",
   "language": "python",
   "name": "python3"
  },
  "language_info": {
   "codemirror_mode": {
    "name": "ipython",
    "version": 3
   },
   "file_extension": ".py",
   "mimetype": "text/x-python",
   "name": "python",
   "nbconvert_exporter": "python",
   "pygments_lexer": "ipython3",
   "version": "3.10.0"
  }
 },
 "nbformat": 4,
 "nbformat_minor": 2
}
